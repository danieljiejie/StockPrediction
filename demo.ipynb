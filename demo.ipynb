{
 "cells": [
  {
   "cell_type": "code",
   "execution_count": 10,
   "metadata": {},
   "outputs": [
    {
     "name": "stdout",
     "output_type": "stream",
     "text": [
      "Error: Couldn’t fetch news (Status code: 403)\n"
     ]
    }
   ],
   "source": [
    "import requests\n",
    "\n",
    "# Your API key from FMP (replace with your own)\n",
    "api_key = \"odOfox7sTMpz78yHVtGrHsDlhV7TCXjp\"\n",
    "\n",
    "# Stock symbol you want news for\n",
    "stock_symbol = \"AAPL\"\n",
    "\n",
    "# FMP API endpoint for stock news\n",
    "url = f\"https://financialmodelingprep.com/api/v3/stock_news?tickers={stock_symbol}&limit=5&apikey={api_key}\"\n",
    "\n",
    "# Make the API request\n",
    "response = requests.get(url)\n",
    "\n",
    "# Check if the request worked\n",
    "if response.status_code == 200:\n",
    "    news_data = response.json()\n",
    "    \n",
    "    # Loop through the news items and print basic info\n",
    "    for article in news_data:\n",
    "        title = article[\"title\"]\n",
    "        date = article[\"publishedDate\"]\n",
    "        source = article[\"site\"]\n",
    "        url_link = article[\"url\"]\n",
    "        print(f\"Title: {title}\")\n",
    "        print(f\"Date: {date}\")\n",
    "        print(f\"Source: {source}\")\n",
    "        print(f\"Link: {url_link}\")\n",
    "        print(\"-\" * 50)\n",
    "else:\n",
    "    print(f\"Error: Couldn’t fetch news (Status code: {response.status_code})\")"
   ]
  },
  {
   "cell_type": "code",
   "execution_count": 2,
   "metadata": {},
   "outputs": [
    {
     "name": "stdout",
     "output_type": "stream",
     "text": [
      "Title: Is Apple hinting at new MacBook Air with M4 chip in new teaser?\n",
      "URL: https://finance.yahoo.com/video/apple-hinting-macbook-air-m4-231500424.html\n",
      "--------------------------------------------------\n",
      "Title: Home Depot earnings, Fed, consumer confidence: What to Watch\n",
      "URL: https://finance.yahoo.com/video/home-depot-earnings-fed-consumer-000000556.html\n",
      "--------------------------------------------------\n",
      "Title: Third Point boosts its stake in these ‘Magnificent Seven’ stocks — but offloads this one\n",
      "URL: https://www.marketwatch.com/story/third-point-boosts-its-stake-in-these-magnificent-seven-stocks-but-offloads-this-one-d99a62ea\n",
      "--------------------------------------------------\n",
      "Title: Apple just unveiled a new version of its cheaper iPhone\n",
      "URL: https://qz.com/apple-cheaper-version-iphone-16-16e-se-ai-a18-chip-1851765422\n",
      "--------------------------------------------------\n",
      "Title: Trump to Apple: Ditch DEI\n",
      "URL: https://qz.com/apple-dei-shareholder-vote-trump-truth-social-1851766592\n",
      "--------------------------------------------------\n"
     ]
    }
   ],
   "source": [
    "import requests\n",
    "\n",
    "# 你的 NewsAPI Key\n",
    "API_KEY = '16f43921b0d8438c84c39b1aab364c61'\n",
    "\n",
    "# 搜索关键词（例如股票代码或公司名称）\n",
    "query = 'AAPL'  # 例如 Tesla 的股票代码\n",
    "language = 'en'  # 语言（英文）\n",
    "page_size = 5  # 每次请求返回的新闻数量\n",
    "\n",
    "# NewsAPI 的端点\n",
    "url = f'https://newsapi.org/v2/everything?q={query}&language={language}&pageSize={page_size}&apiKey={API_KEY}'\n",
    "\n",
    "# 发送请求\n",
    "response = requests.get(url)\n",
    "\n",
    "# 检查请求是否成功\n",
    "if response.status_code == 200:\n",
    "    # 解析 JSON 数据\n",
    "    data = response.json()\n",
    "    \n",
    "    # 提取新闻\n",
    "    articles = data['articles']\n",
    "    \n",
    "    # 打印新闻标题和链接\n",
    "    for article in articles:\n",
    "        title = article['title']\n",
    "        url = article['url']\n",
    "        print(f\"Title: {title}\")\n",
    "        print(f\"URL: {url}\")\n",
    "        print(\"-\" * 50)\n",
    "else:\n",
    "    print(f\"请求失败，状态码: {response.status_code}\")\n",
    "    print(response.text)  # 打印错误信息"
   ]
  },
  {
   "cell_type": "code",
   "execution_count": null,
   "metadata": {},
   "outputs": [],
   "source": []
  }
 ],
 "metadata": {
  "kernelspec": {
   "display_name": "tf-gpu",
   "language": "python",
   "name": "python3"
  },
  "language_info": {
   "codemirror_mode": {
    "name": "ipython",
    "version": 3
   },
   "file_extension": ".py",
   "mimetype": "text/x-python",
   "name": "python",
   "nbconvert_exporter": "python",
   "pygments_lexer": "ipython3",
   "version": "3.8.0"
  }
 },
 "nbformat": 4,
 "nbformat_minor": 2
}
